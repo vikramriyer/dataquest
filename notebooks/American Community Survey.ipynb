{
 "cells": [
  {
   "cell_type": "raw",
   "metadata": {},
   "source": [
    "Let's setup the environment by importing the libraries we need and running the necessary Jupyter magic so that plots are displayed inline.\n",
    "\n",
    "Import pandas and matplotlib into the environment.\n",
    "Run the Jupyter magic %matplotlib inline so that plots are displayed inline.\n",
    "Read the dataset into a DataFrame and start exploring the data.\n",
    "\n",
    "Read recent-grads.csv into pandas and assign the resulting DataFrame to recent_grads.\n",
    "Use DataFrame.iloc[] to return the first row formatted as a table.\n",
    "Use DataFrame.head() and DataFrame.tail() to become familiar with how the data is structured.\n",
    "Use DataFrame.describe() to generate summary statistics for all of the numeric columns.\n",
    "Drop rows with missing values. Matplotlib expects that columns of values we pass in have matching lengths and missing values will cause matplotlib to throw errors.\n",
    "\n",
    "Look up the number of rows in recent_grads and assign the value to raw_data_count.\n",
    "Use DataFrame.dropna() to drop rows containing missing values and assign the resulting DataFrame back to recent_grads.\n",
    "Look up the number of rows in recent_grads now and assign the value to cleaned_data_count. If you compare cleaned_data_count and raw_data_count, you'll notice that only one row contained missing values and was dropped."
   ]
  },
  {
   "cell_type": "raw",
   "metadata": {},
   "source": [
    "Generate scatter plots in separate jupyter notebook cells to explore the following relations:\n",
    "Sample_size and Median\n",
    "Sample_size and Unemployment_rate\n",
    "Full_time and Median\n",
    "ShareWomen and Unemployment_rate\n",
    "Men and Median\n",
    "Women and Median\n",
    "Use the plots to explore the following questions:\n",
    "Do students in more popular majors make more money?\n",
    "Do students that majored in subjects that were majority female make more money?\n",
    "Is there any link between the number of full-time employees and median salary?"
   ]
  },
  {
   "cell_type": "raw",
   "metadata": {},
   "source": [
    "Generate histograms in separate jupyter notebook cells to explore the distributions of the following columns:\n",
    "Sample_size\n",
    "Median\n",
    "Employed\n",
    "Full_time\n",
    "ShareWomen\n",
    "Unemployment_rate\n",
    "Men\n",
    "Women\n",
    "We encourage you to experiment with different bin sizes and ranges when generating these histograms.\n",
    "Use the plots to explore the following questions:\n",
    "What percent of majors are predominantly male? Predominantly female?\n",
    "What's the most common median salary range?"
   ]
  },
  {
   "cell_type": "raw",
   "metadata": {},
   "source": [
    "Import scatter_matrix from the pandas.plotting module.\n",
    "Create a 2 by 2 scatter matrix plot using the Sample_size and Median columns.\n",
    "Create a 3 by 3 scatter matrix plot using the Sample_size, Median, and Unemployment_rate columns.\n",
    "Explore the questions from the last few steps using these scatter matrix plots. You may need to create more scatter matrix plots."
   ]
  },
  {
   "cell_type": "raw",
   "metadata": {},
   "source": [
    "Use bar plots to compare the percentages of women (ShareWomen) from the first ten rows and last ten rows of the recent_grads dataframe.\n",
    "Use bar plots to compare the unemployment rate (Unemployment_rate) from the first ten rows and last ten rows of the recent_grads dataframe."
   ]
  },
  {
   "cell_type": "raw",
   "metadata": {},
   "source": [
    "In this guided project, we learned how to use the plotting tools built into pandas to explore data on job outcomes. If you head over to the documentation on plotting in pandas, you'll notice that there's built in support for many more plots.\n",
    "\n",
    "We encourage you to keep exploring these other visualizations on your own. Here are some ideas:\n",
    "\n",
    "Use a grouped bar plot to compare the number of men with the number of women in each category of majors.\n",
    "Use a box plot to explore the distributions of median salaries and unemployment rate.\n",
    "Use a hexagonal bin plot to visualize the columns that had dense scatter plots from earlier in the project."
   ]
  },
  {
   "cell_type": "code",
   "execution_count": null,
   "metadata": {},
   "outputs": [],
   "source": []
  }
 ],
 "metadata": {
  "kernelspec": {
   "display_name": "Python 3",
   "language": "python",
   "name": "python3"
  },
  "language_info": {
   "codemirror_mode": {
    "name": "ipython",
    "version": 3
   },
   "file_extension": ".py",
   "mimetype": "text/x-python",
   "name": "python",
   "nbconvert_exporter": "python",
   "pygments_lexer": "ipython3",
   "version": "3.7.1"
  }
 },
 "nbformat": 4,
 "nbformat_minor": 2
}
