{
 "cells": [
  {
   "cell_type": "raw",
   "metadata": {},
   "source": [
    "\n",
    "Start by writing a paragraph in a markdown cell introducing the project and the dataset.\n",
    "Import the pandas and NumPy libraries.\n",
    "Read the dete_survey.csv CSV file into pandas, and assign it to the variable name dete_survey.\n",
    "Read the tafe_survey.csv CSV file into pandas, and assign it to the variable name tafe_survey.\n",
    "Use the DataFrame.info() and DataFrame.head() methods to print information about both dataframes, as well as the first few rows. Use other data exploration methods such as the Series.value_counts() and DataFrame.isnull() methods to explore the data and figure out some next steps.\n",
    "Write a markdown cell briefly describing your observations."
   ]
  },
  {
   "cell_type": "raw",
   "metadata": {},
   "source": [
    "Read the dete_survey.csv CSV file into pandas again, but this time read the Not Stated values in as NaN.\n",
    "To read Not Stated in as NaN, set the na_values parameter to Not Stated in the pd.read_csv() function.\n",
    "Assign the result to the variable name dete_survey.\n",
    "Then, let's drop some columns from each dataframe that we won't use in our analysis to make the dataframes easier to work with.\n",
    "Use the DataFrame.drop() method to drop the following columns from dete_survey: dete_survey.columns[28:49]. Remember to set the axis parameter equal to 1.\n",
    "Assign the result to dete_survey_updated.\n",
    "Use the DataFrame.drop() method to drop the following columns from tafe_survey: tafe_survey.columns[17:66]. Remember to set the axis parameter equal to 1.\n",
    "Assign the result to tafe_survey_updated.\n",
    "Write a markdown cell explaining the changes you made and why."
   ]
  },
  {
   "cell_type": "raw",
   "metadata": {},
   "source": [
    "Rename the remaining columns in the dete_survey_updated dataframe.\n",
    "Use the following criteria to update the column names:\n",
    "Make all the capitalization lowercase.\n",
    "Remove any trailing whitespace from the end of the strings.\n",
    "Replace spaces with underscores ('_').\n",
    "As an example, Cease Date should be updated to cease_date.\n",
    "Remember you can use the DataFrame.columns attribute to print an array of the existing column names.\n",
    "Use the DataFrame.rename() method to update the columns below in tafe_survey_updated. Don't worry about the rest of the column names right now - we'll handle them later.\n",
    "'Record ID': 'id'\n",
    "'CESSATION YEAR': 'cease_date'\n",
    "'Reason for ceasing employment': 'separationtype'\n",
    "'Gender. What is your Gender?': 'gender'\n",
    "'CurrentAge. Current Age': 'age'\n",
    "'Employment Type. Employment Type': 'employment_status'\n",
    "'Classification. Classification': 'position'\n",
    "'LengthofServiceOverall. Overall Length of Service at Institute (in years)': 'institute_service'\n",
    "'LengthofServiceCurrent. Length of Service at current workplace (in years)': 'role_service'\n",
    "Use the DataFrame.head() method to look at the current state of the dete_survey_updated and tafe_survey_updated dataframes and make sure your changes look good.\n",
    "Write a markdown cell explaining the changes you made and why."
   ]
  },
  {
   "cell_type": "raw",
   "metadata": {},
   "source": [
    "Use the Series.value_counts() method to review the unique values in the separationtype column in both dete_survey_updated and tafe_survey_updated.\n",
    "In each of dataframes, select only the data for survey respondents who have a Resignation separation type.\n",
    "Remember that the dete_survey_updated dataframe contains three Resignation separation types. We want to select all of them.\n",
    "Use the DataFrame.copy() method on the result to avoid the SettingWithCopy Warning.\n",
    "Assign the result for dete_survey_updated to dete_resignations.\n",
    "Assign the reuslt for tafe_survey_updated to tafe_resignations.\n",
    "Write a markdown paragraph explaining the changes you made and why."
   ]
  },
  {
   "cell_type": "raw",
   "metadata": {},
   "source": [
    "Check the years in each dataframe for logical inconsistencies.\n",
    "First, clean the cease_date column in dete_resignations.\n",
    "Use the Series.value_counts() method to view the unique values in the cease_date column.\n",
    "Use vectorized string methods to extract the year. As a reminder, here is the full list.\n",
    "Use the Series.astype() method method to convert the type to a float.\n",
    "Use the Series.value_counts() to check the values in the cease_date and dete_start_date columns in dete_resignations and the cease_date column in tafe_resignations.\n",
    "Because Series.value_counts() returns a series, we can use Series.sort_index() method with ascending= True or False to view the highest and lowest values with their counts.\n",
    "You can also plot the values of any numeric columns with a boxplot to identify any values that look wrong.\n",
    "Write a markdown paragraph explaining your findings."
   ]
  },
  {
   "cell_type": "raw",
   "metadata": {},
   "source": [
    "Create an institute_service column in dete_resignations\n",
    "Create a new column named institute_service in dete_resignations.\n",
    "Subtract the dete_start_date from the cease_date. Assign the result to a new column named institute_service.\n",
    "Write a markdown paragraph explaining the changes you made and why."
   ]
  },
  {
   "cell_type": "raw",
   "metadata": {},
   "source": [
    "Use the Series.value_counts() method to view the values in the 'Contributing Factors. Dissatisfaction' and 'Contributing Factors. Job Dissatisfaction' in the tafe_resignations dataframe.\n",
    "Update the values in the 'Contributing Factors. Dissatisfaction' and 'Contributing Factors. Job Dissatisfaction' in the tafe_resignations dataframe so that each contains only True, False, or NaN values.\n",
    "Write a function named update_vals that makes the following changes:\n",
    "If the value is NaN, return np.nan. You can use the following criteria to check that a value is NaN: pd.isnull(val).\n",
    "If the value is '-', return False.\n",
    "For any other value, return True.\n",
    "Use the DataFrame.applymap() method to apply the function above to the 'Contributing Factors. Dissatisfaction' and 'Contributing Factors. Job Dissatisfaction' in the tafe_resignations dataframe.\n",
    "Remember that we need to pass the update_vals function into the df.applymap() method without parentheses.\n",
    "Use the df.any() method as described above to create a dissatisfied column in BOTH the tafe_resignations and dete_resignations dataframes.\n",
    "Use the df.copy() method to create a copy of the results and avoid the SettingWithCopy Warning. Assign the results to dete_resignations_up and tafe_resignations_up.\n",
    "Write a markdown paragraph explaining the changes you made and why."
   ]
  },
  {
   "cell_type": "raw",
   "metadata": {},
   "source": [
    "First, let's add a column to each dataframe that will allow us to easily distinguish between the two.\n",
    "Add a column named institute to dete_resignations_up. Each row should contain the value DETE.\n",
    "Add a column named institute to tafe_resignations_up. Each row should contain the value TAFE.\n",
    "Combine the dataframes. Assign the result to combined.\n",
    "Recall that we still have some columns left in the dataframe that we don't need to complete our analysis. Use the DataFrame.dropna() method to drop any columns with less than 500 non null values.\n",
    "Remember that you can drop columns with less than a certain number of non null values with the thresh parameter.\n",
    "Assign the result to combined_updated.\n",
    "Write a markdown paragraph explaining the changes you made and why."
   ]
  },
  {
   "cell_type": "raw",
   "metadata": {},
   "source": [
    "First, we'll extract the years of service from each value in the institute_service column.\n",
    "Use the Series.astype() method to change the type to 'str'.\n",
    "Use vectorized string methods to extract the years of service from each pattern. You can find the full list of vectorized string methods here.\n",
    "Double check that you didn't miss extracting any digits.\n",
    "Use the Series.astype() method to change the type to 'float'.\n",
    "Next, we'll map each value to one of the career stage definitions above.\n",
    "Create a function that maps each year value to one of the career stages above.\n",
    "Remember that you'll have to handle missing values separately. You can use the following code to check if a value is NaN where val is the name of the value: pd.isnull(val).\n",
    "Use the Series.apply() method to apply the function to the institute_service column. Assign the result to a new column named service_cat.\n",
    "Write a markdown paragraph explaining the changes you made and why."
   ]
  },
  {
   "cell_type": "raw",
   "metadata": {},
   "source": [
    "Use the Series.value_counts() method to confirm if the number of True and False in the dissatisfied column. Set the dropna parameter to False to also confirm the number of missing values.\n",
    "Use the DataFrame.fillna() method to replace the missing values in the dissatisfied column with the value that occurs most frequently in this column, either True or False.\n",
    "Use the DataFrame.pivot_table() method to calculate the percentage of dissatisfied employees in each service_cat group.\n",
    "Since a True value is considered to be 1, calculating the mean will also calculate the percentage of dissatisfied employees. The default aggregation function is the mean, so you can exclude the aggfunc argument.\n",
    "Use the DataFrame.plot() method to plot the results. Set the kind parameter equal to bar to create a bar chart.\n",
    "Make sure to run %matplotlib inline beforehand to show your plots in the notebook.\n",
    "Write a markdown paragraph briefly describing your observations."
   ]
  },
  {
   "cell_type": "raw",
   "metadata": {},
   "source": [
    "In this guided project, we experienced that in order to extract any meaningful insights from our data, we had to perform many data cleaning tasks. In order to create one visualization (and not even the final one), we completed the following tasks:\n",
    "\n",
    "Explored the data and figured out how to prepare it for analysis\n",
    "Corrected some of the missing values\n",
    "Dropped any data not needed for our analysis\n",
    "Renamed our columns\n",
    "Verified the quality of our data\n",
    "Created a new institute_service column\n",
    "Cleaned the Contributing Factors columns\n",
    "Created a new column indicating if an employee resigned because they were dissatisfied in some way\n",
    "Combined the data\n",
    "Cleaned the institute_service column\n",
    "Handled the missing values in the dissatisfied column\n",
    "Aggregated the data\n",
    "Our work here is far from done! We recommend that you continue with the following steps:\n",
    "\n",
    "Decide how to handle the rest of the missing values. Then, aggregate the data according to the service_cat column again. How many people in each career stage resigned due to some kind of dissatisfaction?\n",
    "Clean the age column. How many people in each age group resgined due to some kind of dissatisfaction?\n",
    "Instead of analyzing the survey results together, analyze each survey separately. Did more employees in the DETE survey or TAFE survey end their employment because they were dissatisfied in some way?\n",
    "Format your project using Dataquest's project style guide.\n",
    "Guided projects can be used to build a portfolio to showcase to potential employers, so we really encourage you to keep working on this. You're welcome to keep working on the project here, but we recommend downloading it to your computer using the download icon above and working on it there.\n",
    "\n",
    "Remember - if you get stuck, don't be afraid to review previous missions or use Google and StackOverflow to search for answers. This isn't easy and will take time and practice.\n",
    "\n",
    "Congratulations on completing the course! We hope you learned a lot."
   ]
  }
 ],
 "metadata": {
  "kernelspec": {
   "display_name": "Python 3",
   "language": "python",
   "name": "python3"
  },
  "language_info": {
   "codemirror_mode": {
    "name": "ipython",
    "version": 3
   },
   "file_extension": ".py",
   "mimetype": "text/x-python",
   "name": "python",
   "nbconvert_exporter": "python",
   "pygments_lexer": "ipython3",
   "version": "3.7.1"
  }
 },
 "nbformat": 4,
 "nbformat_minor": 2
}
