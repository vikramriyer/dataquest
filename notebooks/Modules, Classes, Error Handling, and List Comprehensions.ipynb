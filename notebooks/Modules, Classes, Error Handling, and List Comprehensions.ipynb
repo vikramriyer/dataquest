{
 "cells": [
  {
   "cell_type": "code",
   "execution_count": 15,
   "metadata": {},
   "outputs": [],
   "source": [
    "import csv"
   ]
  },
  {
   "cell_type": "markdown",
   "metadata": {},
   "source": [
    "#### Task 1\n",
    "\n",
    "- Read the dataset into a list of lists.\n",
    "    - Create a File handler for nfl_suspensions_data.csv.\n",
    "    - Use the csv.reader() and list() methods to read the file into a list named nfl_suspensions.\n",
    "- Remove the first list in nfl_suspensions, which contains the header row of the CSV file.\n",
    "    - Select all lists in nfl_suspensions, except the for the one at index 0.\n",
    "    - Assign the resulting list of lists back to the variable nfl_suspensions.\n",
    "- Count the number of times each value in the year column occurs.\n",
    "    - Create an empty dictionary called years.\n",
    "    - Use a for loop to iterate over the list in nfl_suspensions representing the year column:\n",
    "        - Extract that row's value for the year column and assign it to row_year.\n",
    "        - If row_year is already a key in years, add 1 to the value for that key.\n",
    "        - If row_year isn't already a key in years, set the value for the key to 1.\n",
    "- Use the print() function to display the dictionary years."
   ]
  },
  {
   "cell_type": "code",
   "execution_count": 26,
   "metadata": {},
   "outputs": [],
   "source": [
    "f = open('./data/nfl_suspensions_data.csv')"
   ]
  },
  {
   "cell_type": "code",
   "execution_count": 17,
   "metadata": {},
   "outputs": [],
   "source": [
    "# read and store in a list\n",
    "nfl_suspensions = list(csv.reader(f))"
   ]
  },
  {
   "cell_type": "code",
   "execution_count": 18,
   "metadata": {},
   "outputs": [],
   "source": [
    "header = nfl_suspensions[0]\n",
    "nfl_suspensions = nfl_suspensions[1:]"
   ]
  },
  {
   "cell_type": "code",
   "execution_count": 19,
   "metadata": {},
   "outputs": [
    {
     "data": {
      "text/plain": [
       "['name', 'team', 'games', 'category', 'desc.', 'year', 'source']"
      ]
     },
     "execution_count": 19,
     "metadata": {},
     "output_type": "execute_result"
    }
   ],
   "source": [
    "header"
   ]
  },
  {
   "cell_type": "markdown",
   "metadata": {},
   "source": [
    "#### Task 2\n",
    "- Retrieve the unique values in the team column and assign the list to unique_teams.\n",
    "    - Use a list comprehension to create a new list containing just the values in the team column.\n",
    "    - Use the set() function to return a list containing only the unique values and assign to unique_teams.\n",
    "- Retrieve the unique values in the games column and assign the list to unique_games.\n",
    "    - Use a list comprehension to create a new list containing just the values in the games column.\n",
    "    - Use the set() function to return a list containing only the unique values and assign to unique_games.\n",
    "- Display unique_teams and unique_games"
   ]
  },
  {
   "cell_type": "code",
   "execution_count": 20,
   "metadata": {},
   "outputs": [
    {
     "name": "stdout",
     "output_type": "stream",
     "text": [
      "{'2014': 29, '1946': 1, '1947': 1, '2010': 21, '2008': 10, '2007': 17, '1983': 1, '2009': 10, '2005': 8, '2000': 1, '2012': 45, '2001': 3, '2006': 11, '1989': 17, '   ': 1, '1963': 1, '2013': 40, '1990': 3, '2011': 13, '2004': 6, '2002': 7, '2003': 9, '1997': 3, '1999': 5, '1993': 1, '1995': 1, '1998': 2, '1994': 1, '1986': 1}\n"
     ]
    }
   ],
   "source": [
    "years = {}\n",
    "for row in nfl_suspensions:\n",
    "    if row[5] in years:\n",
    "        years[row[5]] += 1\n",
    "    else:\n",
    "        years[row[5]] = 1\n",
    "print(years)"
   ]
  },
  {
   "cell_type": "code",
   "execution_count": 21,
   "metadata": {},
   "outputs": [],
   "source": [
    "unique_teams = set()\n",
    "unique_teams = set([row[1] for row in nfl_suspensions])\n",
    "\n",
    "unique_games = set()\n",
    "unique_games = set([row[2] for row in nfl_suspensions])"
   ]
  },
  {
   "cell_type": "code",
   "execution_count": 23,
   "metadata": {},
   "outputs": [
    {
     "name": "stdout",
     "output_type": "stream",
     "text": [
      "{'CAR', 'SD', 'STL', 'NO', 'NYG', 'CIN', 'PIT', 'DET', 'CLE', 'OAK', 'NE', 'DEN', 'BUF', 'CHI', 'GB', 'ARI', 'KC', 'WAS', 'JAX', 'LA', 'MIN', 'TEN', 'MIA', 'SF', 'HOU', 'BAL', 'FREE', 'ATL', 'TB', 'PHI', 'DAL', 'NYJ', 'SEA', 'IND'}\n",
      "\n",
      "{'32', '4', '8', '5', '1', '20', '10', '36', 'Indef.', '16', '2', '6', '14', '3'}\n"
     ]
    }
   ],
   "source": [
    "print(unique_teams)\n",
    "print()\n",
    "print(unique_games)"
   ]
  },
  {
   "cell_type": "markdown",
   "metadata": {},
   "source": [
    "#### Task 3\n",
    "- Create the Suspension class.\n",
    "    - Define the __init__() method with the following criteria:\n",
    "        - The sole required parameter is a list representing a row from the dataset.\n",
    "            - To create a Suspension instance, we want to be able to pass in a list from nfl_suspensions.\n",
    "        - Currently, we're only interested in storing the name, team, games and year columns. Upon instantiation:\n",
    "            - Set the name value for that row to the name property.\n",
    "            - Set the team value for that row to the team property.\n",
    "            - Set the games value for that row to the games property.\n",
    "            - Set the year value for that row to the year property.\n",
    "- Create a Suspension instance using the third row in nfl_suspensions, and assign it to the variable third_suspension"
   ]
  },
  {
   "cell_type": "code",
   "execution_count": 24,
   "metadata": {},
   "outputs": [],
   "source": [
    "class Suspension:\n",
    "    def __init__(self, row):\n",
    "        self.name  = row[0]\n",
    "        self.team  = row[1]\n",
    "        self.games = row[2]\n",
    "        self.year  = row[5]\n",
    "        \n",
    "third_suspension = Suspension(nfl_suspensions[2])"
   ]
  },
  {
   "cell_type": "markdown",
   "metadata": {},
   "source": [
    "#### Task 4\n",
    "- Instead of assigning the value at index 5 to the year property directly, use a try except block that:\n",
    "    - Tries to cast the value at index 5 to an integer\n",
    "    - If an exception is thrown, assign the value 0 to the year property instead\n",
    "- Create a method called get_year() that returns the year value for that Suspension instance.\n",
    "- Create a Suspension instance using the 23rd row, and assign it to missing_year.\n",
    "- Use the get_year() method to assign the year of the missing_year suspension instance to twenty_third_year."
   ]
  },
  {
   "cell_type": "code",
   "execution_count": 25,
   "metadata": {},
   "outputs": [],
   "source": [
    "class Suspension():\n",
    "    def __init__(self,row):\n",
    "        self.name  = row[0]\n",
    "        self.team  = row[1]\n",
    "        self.games = row[2]\n",
    "        try:\n",
    "            self.year = int(row[5])\n",
    "        except Exception:\n",
    "            self.year = 0\n",
    "            \n",
    "    def get_year(self):\n",
    "        return self.year\n",
    "    \n",
    "missing_year = Suspension(nfl_suspensions[22])\n",
    "twenty_third_year = missing_year.get_year()"
   ]
  },
  {
   "cell_type": "markdown",
   "metadata": {},
   "source": [
    "#### Conclusion\n",
    "In this challenge, you honed your knowledge of list comprehensions and class creation. You also practiced using the csv module, as well as handling exceptions with a try catch block. Next, you'll learn about variable scopes"
   ]
  }
 ],
 "metadata": {
  "kernelspec": {
   "display_name": "Python 3",
   "language": "python",
   "name": "python3"
  },
  "language_info": {
   "codemirror_mode": {
    "name": "ipython",
    "version": 3
   },
   "file_extension": ".py",
   "mimetype": "text/x-python",
   "name": "python",
   "nbconvert_exporter": "python",
   "pygments_lexer": "ipython3",
   "version": "3.6.5"
  }
 },
 "nbformat": 4,
 "nbformat_minor": 2
}
