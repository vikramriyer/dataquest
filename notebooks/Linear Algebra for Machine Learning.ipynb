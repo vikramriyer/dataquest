{
 "cells": [
  {
   "cell_type": "code",
   "execution_count": 1,
   "metadata": {},
   "outputs": [],
   "source": [
    "import numpy as np\n",
    "import matplotlib.pyplot as plt\n",
    "%matplotlib inline"
   ]
  },
  {
   "cell_type": "markdown",
   "metadata": {},
   "source": [
    "# Linear Systems"
   ]
  },
  {
   "cell_type": "markdown",
   "metadata": {},
   "source": [
    "### Exercise 1"
   ]
  },
  {
   "cell_type": "markdown",
   "metadata": {},
   "source": [
    "Optimal Salary Problem\n",
    "\n",
    "Let's say we have to pick between 2 different job offers. The first job offer has a base weekly salary of 1000 dollars and pays 30 dollars an hour. We can represent this offer as , where  represents dollars earned that week and  represents hours worked that week. The second job offer has a base weekly salary of 100 dollars and pays 50 dollars an hour. We can represent this offer as , where  also represents dollars earned that week and  also represents hours worked that week.\n",
    "\n",
    "We want to understand which job offer is better. If we know exactly the amount of money we'd like to make each week (), we can substitute that value into both equations and solve for  to identify which job will require us to work less hours. If we know exactly the number of hours we want to work each week (), we can substitute that value into both equations and solve for  to identify which job will make us more money for the same amount of hours worked.\n",
    "\n",
    "Instead, if we want to understand:\n",
    "\n",
    "At what number of hours worked can we expect to make the same amount of money at either job?\n",
    "How many hours do we have to work to make more money at the first job than the second job?\n",
    "To answer the first question, we need to find the  value where both the  values are equivalent. Once we know where they intersect, we can easily find out the answer to the second question.\n",
    "\n",
    "Let's start by visualizing both of these equations on a plot and gaining a visual intuition for where they intersect."
   ]
  },
  {
   "cell_type": "markdown",
   "metadata": {},
   "source": [
    "- Use numpy.linspace() to generate 1000, evenly spaced values between 0 and 50 and assign to x.\n",
    "- Transform x using the equation  and assign the result to y1.\n",
    "- Transform x using the equation  and assign the result to y2.\n",
    "- Generate 2 line plots on the same subplot:\n",
    "    - One with x on the x-axis and y1 on the y-axis. Set the line color to \"orange\".\n",
    "    - One with x on the x-axis and y2 on the y-axis. Set the line color to \"blue\".\n",
    "- Skip selecting a value range for the x and y axes, and instead let matplotlib automatically select based on the data."
   ]
  },
  {
   "cell_type": "code",
   "execution_count": 5,
   "metadata": {},
   "outputs": [
    {
     "data": {
      "text/plain": [
       "[<matplotlib.lines.Line2D at 0x1123ffcc0>]"
      ]
     },
     "execution_count": 5,
     "metadata": {},
     "output_type": "execute_result"
    },
    {
     "data": {
      "image/png": "[encoded data removed]",
      "text/plain": [
       "<Figure size 432x288 with 1 Axes>"
      ]
     },
     "metadata": {
      "needs_background": "light"
     },
     "output_type": "display_data"
    }
   ],
   "source": [
    "x = np.linspace(0, 50, 1000)\n",
    "plt.plot(x)"
   ]
  },
  {
   "cell_type": "code",
   "execution_count": 15,
   "metadata": {},
   "outputs": [
    {
     "data": {
      "text/plain": [
       "[<matplotlib.lines.Line2D at 0x112b930f0>]"
      ]
     },
     "execution_count": 15,
     "metadata": {},
     "output_type": "execute_result"
    },
    {
     "data": {
      "image/png": "[encoded data removed]",
      "text/plain": [
       "<Figure size 432x288 with 1 Axes>"
      ]
     },
     "metadata": {
      "needs_background": "light"
     },
     "output_type": "display_data"
    }
   ],
   "source": [
    "y1 = 30*x + 1000\n",
    "y2 = 50*x + 100\n",
    "\n",
    "plt.plot(x, y1, c='orange')\n",
    "plt.plot(x, y2, c='blue')"
   ]
  },
  {
   "cell_type": "markdown",
   "metadata": {},
   "source": [
    "From the plot we generated in the last screen, we can tell that both functions intersect at somewhere near the point $(45,2200)$"
   ]
  },
  {
   "cell_type": "markdown",
   "metadata": {},
   "source": [
    "This point where both equations intersect is known as a solution to the system, because substituting for  and  into both functions in the system makes both of them true. Said another way, plugging in the  value of the solution into both functions yields the same  value.\n",
    "\n",
    "Let's explore how to solve this system by hand. Because both functions share the same variables, we can represent one of the variables, say , in terms of the other variable and solve for the  value. Then, we can substitute this  value into either equation to determine the  value. This process is known as solving by elimination or the elimination method. Let's walkthrough how to apply this process to our system.\n",
    "\n",
    "y = 1000 + 30x\n",
    "y = 100  + 50x\n",
    "\n",
    "Therefore, 1000 - 100 = 50x - 30x, hence x = 45.\n",
    "\n",
    "Which means, when we work for 45 hours, the total compensation for both the jobs is equal. \n",
    "\n",
    "While we can solve a linear system like this by hand using arithmetic, we can't use the same technique to solve much more complex systems. Many real world systems are modeled using many more than 2 variables and functions and solving by hand is unfeasible.\n",
    "\n",
    "Those types of systems can be solved using linear algebra using a variation of arithmetic elimination called __Gaussian elimination__. We'll walkthrough how to perform Gaussian elimination in the rest of this mission to find a solution to our linear system."
   ]
  },
  {
   "attachments": {},
   "cell_type": "markdown",
   "metadata": {},
   "source": [
    "The two equations are:\n",
    "\n",
    "$30x - y = -1000$\n",
    "\n",
    "and \n",
    "\n",
    "$50x - y = -100$\n",
    "\n",
    "\n",
    "To represent both linear functions in a system, we use an augmented matrix:\n",
    "\n",
    "$\\left[\\begin{array}{rr|r}\n",
    "30 & -1 & -1000 \\\\ \n",
    "50 & -1 & -100\n",
    "\\end{array}\\right]$\n",
    "\n",
    "In an augmented matrix, the coefficients from the left sides of the functions are on the left side of the bar (|), while the constants from the right sides of the functions are on the right side. An augmented matrix allows us to represent a linear system using just the real number coefficients and constants.\n",
    "\n",
    "![](la_img1.svg)"
   ]
  },
  {
   "cell_type": "markdown",
   "metadata": {},
   "source": [
    "### Exercise 2: Practice and Echelon form"
   ]
  },
  {
   "cell_type": "code",
   "execution_count": null,
   "metadata": {},
   "outputs": [],
   "source": [
    "matrix_one = np.asarray([\n",
    "    [30, -1, -1000],\n",
    "    [50, -1, -100]  \n",
    "], dtype=np.float32)"
   ]
  },
  {
   "attachments": {},
   "cell_type": "markdown",
   "metadata": {},
   "source": [
    "The important question now is, how do we arrive at the same solution we did earlier in the mission by arithmetic? Earlier in the mission, we used arithmetic to calculate the solution to the system and represented it as a coordinate pair: (45, 2350). Here's how we represent the solution when we're working with the matrix representation:\n",
    "\n",
    "$\\left[\\begin{array}{rr|r}\n",
    "1 & 0 & 45 \\\\ \n",
    "0 & 1 & 2350\n",
    "\\end{array}\\right]$\n",
    "\n",
    "When we convert this matrix back into equations in the standard form, you'll notice that this corresponds to the same solution:\n",
    "\n",
    "![](la_img2.svg)\n",
    "\n",
    "To solve a linear system, we need to perform a series of transformations to try to evolve the matrix into this form (where the solution is presented). Not all linear systems have solutions, however, and we'll explore this in further detail throughout this course."
   ]
  },
  {
   "attachments": {},
   "cell_type": "markdown",
   "metadata": {},
   "source": [
    "To preserve the relationships in the linear system, we can only use the following row operations:\n",
    "\n",
    "![](la_img3.svg)\n",
    "\n",
    "To swap 2 rows in a NumPy ndarray object, we need to use double bracket notation to specify the row ordering change:"
   ]
  },
  {
   "cell_type": "code",
   "execution_count": 25,
   "metadata": {},
   "outputs": [],
   "source": [
    "matrix =  np.asarray([\n",
    "    [1, 3],\n",
    "    [50, 2]  \n",
    "], dtype=np.float32)\n",
    "# Swap the second row (at index value 1) with the first row (at index value 0).\n",
    "matrix = matrix[[1,0]]"
   ]
  },
  {
   "cell_type": "code",
   "execution_count": 26,
   "metadata": {},
   "outputs": [
    {
     "data": {
      "text/plain": [
       "array([[50.,  2.],\n",
       "       [ 1.,  3.]], dtype=float32)"
      ]
     },
     "execution_count": 26,
     "metadata": {},
     "output_type": "execute_result"
    }
   ],
   "source": [
    "matrix"
   ]
  },
  {
   "cell_type": "code",
   "execution_count": 27,
   "metadata": {},
   "outputs": [],
   "source": [
    "# Multipy the second row by 2.\n",
    "matrix[1] = 2*matrix[1]"
   ]
  },
  {
   "cell_type": "code",
   "execution_count": 28,
   "metadata": {},
   "outputs": [
    {
     "data": {
      "text/plain": [
       "array([[50.,  2.],\n",
       "       [ 2.,  6.]], dtype=float32)"
      ]
     },
     "execution_count": 28,
     "metadata": {},
     "output_type": "execute_result"
    }
   ],
   "source": [
    "matrix"
   ]
  },
  {
   "cell_type": "code",
   "execution_count": 29,
   "metadata": {},
   "outputs": [],
   "source": [
    "# Add the second row to the first row.\n",
    "matrix[1] = matrix[1] + matrix[0]"
   ]
  },
  {
   "cell_type": "code",
   "execution_count": 30,
   "metadata": {},
   "outputs": [
    {
     "data": {
      "text/plain": [
       "array([[50.,  2.],\n",
       "       [52.,  8.]], dtype=float32)"
      ]
     },
     "execution_count": 30,
     "metadata": {},
     "output_type": "execute_result"
    }
   ],
   "source": [
    "matrix"
   ]
  },
  {
   "cell_type": "code",
   "execution_count": 31,
   "metadata": {},
   "outputs": [],
   "source": [
    "# Divide the first row from matrix_one by 30.\n",
    "matrix_one = np.asarray([\n",
    "    [30, -1, -500],\n",
    "    [50, -1, -100]  \n",
    "], dtype=np.float32)\n",
    "matrix_one[0] = matrix_one[0]/30"
   ]
  },
  {
   "cell_type": "code",
   "execution_count": 32,
   "metadata": {},
   "outputs": [
    {
     "data": {
      "text/plain": [
       "array([[ 1.0000000e+00, -3.3333335e-02, -1.6666666e+01],\n",
       "       [ 5.0000000e+01, -1.0000000e+00, -1.0000000e+02]], dtype=float32)"
      ]
     },
     "execution_count": 32,
     "metadata": {},
     "output_type": "execute_result"
    }
   ],
   "source": [
    "matrix_one"
   ]
  },
  {
   "cell_type": "markdown",
   "metadata": {},
   "source": [
    "To find the solutions of a matrix, there are 2 main steps we need to take. The first step is to rearrange the matrix into echelon form. In this form, the values on the diagonal locations are all equal to `1` and the values below the diagonal are all equal to `0`.\n",
    "\n",
    "$\\left[\\begin{array}{rr|r}\n",
    "1 & ? & ? \\\\ \n",
    "0 & 1 & ?\n",
    "\\end{array}\\right]$"
   ]
  },
  {
   "cell_type": "code",
   "execution_count": 38,
   "metadata": {},
   "outputs": [],
   "source": [
    "matrix_one = np.asarray([\n",
    "    [30, -1, -1000],\n",
    "    [50, -1, -100]  \n",
    "], dtype=np.float32)"
   ]
  },
  {
   "cell_type": "code",
   "execution_count": 39,
   "metadata": {},
   "outputs": [
    {
     "data": {
      "text/plain": [
       "array([[   30.,    -1., -1000.],\n",
       "       [   50.,    -1.,  -100.]], dtype=float32)"
      ]
     },
     "execution_count": 39,
     "metadata": {},
     "output_type": "execute_result"
    }
   ],
   "source": [
    "matrix_one"
   ]
  },
  {
   "cell_type": "code",
   "execution_count": 40,
   "metadata": {},
   "outputs": [],
   "source": [
    "matrix_one[0] = matrix_one[0]/30"
   ]
  },
  {
   "cell_type": "code",
   "execution_count": 41,
   "metadata": {},
   "outputs": [
    {
     "data": {
      "text/plain": [
       "array([[ 1.0000000e+00, -3.3333335e-02, -3.3333332e+01],\n",
       "       [ 5.0000000e+01, -1.0000000e+00, -1.0000000e+02]], dtype=float32)"
      ]
     },
     "execution_count": 41,
     "metadata": {},
     "output_type": "execute_result"
    }
   ],
   "source": [
    "matrix_one"
   ]
  },
  {
   "cell_type": "code",
   "execution_count": 43,
   "metadata": {},
   "outputs": [],
   "source": [
    "matrix_one[1] = matrix_one[1]-50*matrix_one[0]"
   ]
  },
  {
   "cell_type": "code",
   "execution_count": 44,
   "metadata": {},
   "outputs": [
    {
     "data": {
      "text/plain": [
       "array([[ 1.0000000e+00, -3.3333335e-02, -3.3333332e+01],\n",
       "       [ 0.0000000e+00,  6.6666675e-01,  1.5666666e+03]], dtype=float32)"
      ]
     },
     "execution_count": 44,
     "metadata": {},
     "output_type": "execute_result"
    }
   ],
   "source": [
    "matrix_one"
   ]
  },
  {
   "cell_type": "code",
   "execution_count": 45,
   "metadata": {},
   "outputs": [],
   "source": [
    "matrix_one[1] = (30/20)*matrix_one[1]"
   ]
  },
  {
   "cell_type": "code",
   "execution_count": 46,
   "metadata": {},
   "outputs": [
    {
     "data": {
      "text/plain": [
       "array([[ 1.0000000e+00, -3.3333335e-02, -3.3333332e+01],\n",
       "       [ 0.0000000e+00,  1.0000001e+00,  2.3500000e+03]], dtype=float32)"
      ]
     },
     "execution_count": 46,
     "metadata": {},
     "output_type": "execute_result"
    }
   ],
   "source": [
    "matrix_one"
   ]
  },
  {
   "cell_type": "markdown",
   "metadata": {},
   "source": [
    "### Exercise 3: Transform matric to Echelon form"
   ]
  },
  {
   "cell_type": "markdown",
   "metadata": {},
   "source": [
    "#### Transform matrix_three into echelon form and display using the print() function."
   ]
  },
  {
   "cell_type": "code",
   "execution_count": 57,
   "metadata": {},
   "outputs": [],
   "source": [
    "matrix_three = np.asarray([\n",
    "    [1, -1/30, -1000/30],\n",
    "    [0, 1, 2350]  \n",
    "], dtype=np.float32)"
   ]
  },
  {
   "cell_type": "code",
   "execution_count": 58,
   "metadata": {},
   "outputs": [
    {
     "data": {
      "text/plain": [
       "array([[ 1.0000000e+00, -3.3333335e-02, -3.3333332e+01],\n",
       "       [ 0.0000000e+00,  1.0000000e+00,  2.3500000e+03]], dtype=float32)"
      ]
     },
     "execution_count": 58,
     "metadata": {},
     "output_type": "execute_result"
    }
   ],
   "source": [
    "matrix_three"
   ]
  },
  {
   "cell_type": "code",
   "execution_count": 59,
   "metadata": {},
   "outputs": [],
   "source": [
    "matrix_three[0] = matrix_three[0] + matrix_three[1]/30"
   ]
  },
  {
   "cell_type": "code",
   "execution_count": 60,
   "metadata": {},
   "outputs": [
    {
     "data": {
      "text/plain": [
       "array([[1.0000000e+00, 0.0000000e+00, 4.5000004e+01],\n",
       "       [0.0000000e+00, 1.0000000e+00, 2.3500000e+03]], dtype=float32)"
      ]
     },
     "execution_count": 60,
     "metadata": {},
     "output_type": "execute_result"
    }
   ],
   "source": [
    "matrix_three"
   ]
  },
  {
   "attachments": {},
   "cell_type": "markdown",
   "metadata": {},
   "source": [
    "In most real world situations, the dependent variable $y$ is connected to multiple independent variables, not just a single one $x$. To represent those functions, we'll need to work with a different version of the general form:\n",
    "\n",
    "$a_1x_1 + a_2x_2 + a_3x_3 + ... + a_nx_n = c$\n",
    "\n",
    "In this form, $a_1 ... a_n$ are the coefficients and  is a constant value.\n",
    "\n",
    "![](la_img4.svg)\n",
    "\n",
    "If we have a system with more than 3 variables, we can't visualize it easily. In addition, performing Gaussian elimination becomes much more painful to do. In the next few missions, we'll develop more of the theory and geometric intuition behind linear algebra and build on that to solve these higher order linear systems."
   ]
  },
  {
   "cell_type": "markdown",
   "metadata": {},
   "source": [
    "# Vectors"
   ]
  },
  {
   "cell_type": "code",
   "execution_count": 112,
   "metadata": {},
   "outputs": [
    {
     "data": {
      "text/plain": [
       "<matplotlib.quiver.Quiver at 0x114b6ef60>"
      ]
     },
     "execution_count": 112,
     "metadata": {},
     "output_type": "execute_result"
    },
    {
     "data": {
      "image/png": "[encoded data removed]",
      "text/plain": [
       "<Figure size 432x288 with 1 Axes>"
      ]
     },
     "metadata": {
      "needs_background": "light"
     },
     "output_type": "display_data"
    }
   ],
   "source": [
    "plt.axhline(0, c='black', lw=0.5)\n",
    "plt.axvline(0, c='black', lw=0.5)\n",
    "plt.xlim(-3,3)\n",
    "plt.ylim(-4,4)\n",
    "\n",
    "plt.quiver(0,0,2,3,angles='xy', scale_units='xy', scale=1,  color='blue')\n",
    "plt.quiver(0,0,-2,-3, angles='xy', scale_units='xy', scale=1, color='blue')\n",
    "plt.quiver(0,0,1,1, angles='xy', scale_units='xy', scale=1, color='gold')\n",
    "plt.quiver(0,0,2,2, angles='xy', scale_units='xy', scale=1, color='gold')"
   ]
  },
  {
   "cell_type": "markdown",
   "metadata": {},
   "source": [
    "### Exercise 4"
   ]
  },
  {
   "cell_type": "markdown",
   "metadata": {},
   "source": [
    "- Plot the vector $\\begin{bmatrix} 3\\\\ 0 \\end{bmatrix}$. This vector should originate at $(0,0)$.\n",
    "- Plot the vector $\\begin{bmatrix} 0\\\\ 3 \\end{bmatrix}$. This vector should originate at $(3,0)$.\n",
    "- Add both of these vectors and plot the resulting vector. This vector should originate at $(0,0)$. When calling `pyplot.quiver()`, use the color parameter to set the color to `green`."
   ]
  },
  {
   "cell_type": "code",
   "execution_count": 114,
   "metadata": {},
   "outputs": [
    {
     "data": {
      "text/plain": [
       "<matplotlib.quiver.Quiver at 0x114517fd0>"
      ]
     },
     "execution_count": 114,
     "metadata": {},
     "output_type": "execute_result"
    },
    {
     "data": {
      "image/png": "[encoded data removed]",
      "text/plain": [
       "<Figure size 432x288 with 1 Axes>"
      ]
     },
     "metadata": {
      "needs_background": "light"
     },
     "output_type": "display_data"
    }
   ],
   "source": [
    "# This code draws the x and y axis as lines.\n",
    "plt.axhline(0, c='black', lw=0.5)\n",
    "plt.axvline(0, c='black', lw=0.5)\n",
    "plt.xlim(-4,4)\n",
    "plt.ylim(-1,4)\n",
    "\n",
    "plt.quiver(0, 0, 3, 0, angles='xy', scale_units='xy', scale=1)\n",
    "plt.quiver(3, 0, 0, 3, angles='xy', scale_units='xy', scale=1)\n",
    "plt.quiver(0, 0, 3, 3, angles='xy', scale_units='xy', scale=1, color='green')"
   ]
  },
  {
   "cell_type": "code",
   "execution_count": 115,
   "metadata": {},
   "outputs": [
    {
     "data": {
      "image/png": "[encoded data removed]",
      "text/plain": [
       "<Figure size 432x288 with 1 Axes>"
      ]
     },
     "metadata": {
      "needs_background": "light"
     },
     "output_type": "display_data"
    }
   ],
   "source": [
    "plt.axhline(0, c='black', lw=0.5)\n",
    "plt.axvline(0, c='black', lw=0.5)\n",
    "plt.xlim(0,10)\n",
    "plt.ylim(0,5)\n",
    "\n",
    "plt.quiver(0, 0, 3, 1, angles='xy', scale_units='xy', scale=1, color='blue')\n",
    "plt.quiver(0, 0, 6, 2, angles='xy', scale_units='xy', scale=1, color='green')\n",
    "plt.quiver(0, 0, 9, 3, angles='xy', scale_units='xy', scale=1, color='orange')\n",
    "plt.show()"
   ]
  },
  {
   "cell_type": "markdown",
   "metadata": {},
   "source": [
    "#### Dot Product"
   ]
  },
  {
   "cell_type": "code",
   "execution_count": 117,
   "metadata": {},
   "outputs": [
    {
     "name": "stdout",
     "output_type": "stream",
     "text": [
      "[4.]\n"
     ]
    }
   ],
   "source": [
    "vector_one = np.asarray([\n",
    "    [1],\n",
    "    [2],\n",
    "    [1]\n",
    "], dtype=np.float32)\n",
    "\n",
    "vector_two = np.asarray([\n",
    "    [3],\n",
    "    [0],\n",
    "    [1]\n",
    "], dtype=np.float32)\n",
    "\n",
    "dot_product = np.dot(vector_one[:,0], vector_two)\n",
    "print(dot_product)"
   ]
  },
  {
   "cell_type": "markdown",
   "metadata": {},
   "source": [
    "### The Matrix Equation"
   ]
  },
  {
   "cell_type": "markdown",
   "metadata": {},
   "source": [
    "The last key concept we'll briefly introduce in this mission is the matrix equation. The matrix equation is the representation of a linear system using only matrices and vectors. Here's the augmented matrix we started out with:\n",
    "\n",
    "$\\left[\\begin{array}{rr|r}\n",
    "30 & -1 & -1000 \\\\ \n",
    "50 & -1 & -100\n",
    "\\end{array}\\right]$\n",
    "\n",
    "This augmented matrix is a shorthand representation for the matrix equation:\n",
    "\n",
    "$\\left[\\begin{array}{rr|r}\n",
    "30 & -1 \\\\ \n",
    "50 & -1 \n",
    "\\end{array}\\right] \\begin{bmatrix} x\\\\ y \\end{bmatrix} =  \\begin{bmatrix} -1000\\\\ -100 \\end{bmatrix}$\n",
    "\n",
    "On the left side, we're multiplying a matrix containing the coefficients with the vector containing the variables. The right side contains the constant values. This separation of coefficients and variables from the constants should be familiar. This is exactly what we did in the general form as well!\n",
    "\n",
    "It's common practice to use $x_1$, $x_2$,...$x_n$ instead of  and  to represent the individual values in the solution vector.\n",
    "\n",
    "$\\left[\\begin{array}{rr|r}\n",
    "30 & -1 \\\\ \n",
    "50 & -1 \n",
    "\\end{array}\\right] \\begin{bmatrix} x_1\\\\ x_2 \\end{bmatrix} =  \\begin{bmatrix} -1000\\\\ -100 \\end{bmatrix}$\n",
    "\n",
    "This allows us to work with vectors with any number of elements (instead of just 26, for the number of letters in the English alphabet). We can now introduce the arithmetic representation of the matrix equation:\n",
    "\n",
    "$A\\vec{x} = \\vec{b}$\n",
    "\n",
    "where $A$ represents the coefficient matrix, $\\vec{x}$ represents the solution vector, and $\\vec{b}$ represents the constants. Note that $\\vec{b}$ can't be a vector containing all zeroes, also known as the zero factor and represented using $\\vec{0}$.\n",
    "\n",
    "Before we can work with this form of the system, we need to learn about the following topics in the next mission:\n",
    "\n",
    "the rules that describe how matrices can be combined\n",
    "how to multipy a matrix with a vector\n",
    "how to calculate the solution vector  without using Gaussian elimination."
   ]
  },
  {
   "cell_type": "markdown",
   "metadata": {},
   "source": [
    "### Exercise 5: Matrix Inverse"
   ]
  },
  {
   "cell_type": "markdown",
   "metadata": {},
   "source": [
    "- Create a function named `matrix_inverse_two()` that accepts a `2 x 2` matrix, as a NumPy ndarray, and returns the matrix inverse.This function should first calculate the determinant of the matrix.\n",
    "    - If the determinant is equal to `0`, an error should be returned.\n",
    "    - If the determinant is not equal to `0`, this function should return the matrix inverse.\n",
    "- Calculate the inverse of `matrix_a` using the function you just wrote and assign the result to `inverse_a`.\n",
    "- Multiply `inverse_a` with `matrix_a` and assign the result to `i_2`. Display `i_2` using the `print()` function."
   ]
  },
  {
   "cell_type": "code",
   "execution_count": 123,
   "metadata": {},
   "outputs": [
    {
     "name": "stdout",
     "output_type": "stream",
     "text": [
      "[[1. 0.]\n",
      " [0. 1.]]\n"
     ]
    }
   ],
   "source": [
    "matrix_a = np.asarray([\n",
    "    [1.5, 3],\n",
    "    [1, 4]\n",
    "])\n",
    "\n",
    "def matrix_inverse_two(mat):\n",
    "    det = (mat[0,0]*mat[1,1] - mat[0,1]*mat[1,0])\n",
    "    mat_ = np.asarray([\n",
    "        [mat[1,1], -mat[0,1]],\n",
    "        [-mat[1,0], mat[0,0]]\n",
    "    ])\n",
    "    if det == 0:\n",
    "        raise ValueError('Determinant cannot be 0')\n",
    "    inv_mat = np.dot(1/det, mat_)\n",
    "    return inv_mat\n",
    "\n",
    "inverse_a = matrix_inverse_two(matrix_a)\n",
    "i_2 = np.dot(inverse_a, matrix_a)\n",
    "print(i_2)"
   ]
  },
  {
   "cell_type": "markdown",
   "metadata": {},
   "source": [
    "Now that we know how to compute the matrix inverse, we can solve our system using the matrix equation $A\\vec{x} = \\vec{b}$:\n",
    "\n",
    "$\\left[\\begin{array}{rr|r}\n",
    "30 & -1 \\\\ \n",
    "50 & -1 \n",
    "\\end{array}\\right] \\begin{bmatrix} x_1\\\\ x_2 \\end{bmatrix} =  \\begin{bmatrix} -1000\\\\ -100 \\end{bmatrix}$\n",
    "\n",
    "We start by left multiplying $A^{-1}$ on both sides:\n",
    "\n",
    "$\\left[\\begin{array}{rr|r}\n",
    "30 & -1 \\\\ \n",
    "50 & -1 \n",
    "\\end{array}\\right]^{-1} \\left[\\begin{array}{rr|r}\n",
    "30 & -1 \\\\ \n",
    "50 & -1 \n",
    "\\end{array}\\right] \\begin{bmatrix} x_1\\\\ x_2 \\end{bmatrix} =  \\left[\\begin{array}{rr|r}\n",
    "30 & -1 \\\\ \n",
    "50 & -1 \n",
    "\\end{array}\\right]^{-1} \\begin{bmatrix} -1000\\\\ -100 \\end{bmatrix}$\n",
    "\n",
    "This simplifies to:\n",
    "\n",
    "$\\begin{bmatrix} x_1\\\\ x_2 \\end{bmatrix} =  \\left[\\begin{array}{rr|r}\n",
    "30 & -1 \\\\ \n",
    "50 & -1 \n",
    "\\end{array}\\right]^{-1} \\begin{bmatrix} -1000\\\\ -100 \\end{bmatrix}$\n",
    "\n",
    "Let's finish this last step in Python. To compute the inverse of a NumPy ndarray, we need to use the [numpy.linalg.inv()](https://docs.scipy.org/doc/numpy/reference/generated/numpy.linalg.inv.html) function."
   ]
  },
  {
   "cell_type": "code",
   "execution_count": 124,
   "metadata": {},
   "outputs": [
    {
     "name": "stdout",
     "output_type": "stream",
     "text": [
      "[[  45.]\n",
      " [2350.]]\n"
     ]
    }
   ],
   "source": [
    "# Alternate method\n",
    "\n",
    "matrix_a = np.asarray([\n",
    "    [30, -1],\n",
    "    [50, -1]\n",
    "])\n",
    "\n",
    "vector_b = np.asarray([\n",
    "    [-1000],\n",
    "    [-100]\n",
    "])\n",
    "matrix_a_inverse = np.linalg.inv(matrix_a)\n",
    "solution_x = np.dot(matrix_a_inverse, vector_b)\n",
    "print(solution_x)"
   ]
  },
  {
   "cell_type": "markdown",
   "metadata": {},
   "source": [
    "### Exercise 6: Determinant of Higher Dimensional Matrix"
   ]
  },
  {
   "cell_type": "markdown",
   "metadata": {},
   "source": [
    "- Calculate the determinant of `matrix_22` and assign to `det_22`.\n",
    "- Calculate the determinant of `matrix_33` and assign to `det_33`."
   ]
  },
  {
   "cell_type": "code",
   "execution_count": 125,
   "metadata": {},
   "outputs": [
    {
     "name": "stdout",
     "output_type": "stream",
     "text": [
      "0.0\n",
      "-4.999999999999997\n"
     ]
    }
   ],
   "source": [
    "matrix_22 = np.asarray([\n",
    "    [8, 4],\n",
    "    [4, 2]\n",
    "])\n",
    "\n",
    "matrix_33 = np.asarray([\n",
    "    [1, 1, 1],\n",
    "    [1, 1, 6],\n",
    "    [7, 8, 9]\n",
    "])\n",
    "det_22 = np.linalg.det(matrix_22)\n",
    "det_33 = np.linalg.det(matrix_33)\n",
    "\n",
    "print(det_22)\n",
    "print(det_33)"
   ]
  },
  {
   "cell_type": "markdown",
   "metadata": {},
   "source": [
    "# Solution Sets"
   ]
  },
  {
   "cell_type": "markdown",
   "metadata": {},
   "source": [
    "## Inconsistent Systems"
   ]
  },
  {
   "cell_type": "markdown",
   "metadata": {},
   "source": [
    "Use pencil and paper to extract the equations from the augmented matrix \n",
    "\n",
    "$\n",
    "\\left[\\begin{array}{rr|r}\n",
    "8 & 4 & 5 \\\\ \n",
    "4 & 2 & 5\n",
    "\\end{array}\\right]\n",
    "$\n",
    "\n",
    "and rewrite them in slope-intercept form: \n",
    "\n",
    "$y = mx + b$\n",
    "\n",
    "\n",
    "Above aug matrix can be written as:\n",
    "\n",
    "$\\left[\\begin{array}{rr|r}\n",
    "8 & 4 \\\\ \n",
    "4 & 2 5\n",
    "\\end{array}\\right] * \\left[\\begin{array}{rr|r}\n",
    "x \\\\\n",
    "y\n",
    "\\end{array}\\right] = \\left[\\begin{array}{rr|r}\n",
    "5 \\\\\n",
    "5\n",
    "\\end{array}\\right]$\n",
    "\n",
    "So the equations become:\n",
    "\n",
    "$8x + 4y = 5 \\\\\n",
    " 4x + 2y = 5$\n",
    " \n",
    " So, in slope intercept form, they become,\n",
    " \n",
    "$\n",
    "y1 = -2*x + (5/4) \\\\\n",
    "y2 = -2*x + (5/2)\n",
    "$"
   ]
  },
  {
   "cell_type": "markdown",
   "metadata": {},
   "source": [
    "### Exercise 7"
   ]
  },
  {
   "cell_type": "code",
   "execution_count": 126,
   "metadata": {},
   "outputs": [
    {
     "data": {
      "text/plain": [
       "[<matplotlib.lines.Line2D at 0x1144aa7f0>]"
      ]
     },
     "execution_count": 126,
     "metadata": {},
     "output_type": "execute_result"
    },
    {
     "data": {
      "image/png": "[encoded data removed]",
      "text/plain": [
       "<Figure size 432x288 with 1 Axes>"
      ]
     },
     "metadata": {
      "needs_background": "light"
     },
     "output_type": "display_data"
    }
   ],
   "source": [
    "import numpy as np\n",
    "import matplotlib.pyplot as plt\n",
    "x = np.linspace(0, 20, 1000)\n",
    "y1 = -2*x + (5/4)\n",
    "y2 = -2*x + (5/2)\n",
    "\n",
    "plt.plot(x, y1, c='blue')\n",
    "plt.plot(x, y2, c='blue')"
   ]
  },
  {
   "cell_type": "markdown",
   "metadata": {},
   "source": [
    "These lines can never intersect and hence there is no solution which means this system of equations is inconsistent."
   ]
  },
  {
   "cell_type": "markdown",
   "metadata": {},
   "source": [
    "Another way to look at this is, calculating the determinant of the matrix.\n",
    "\n",
    "$A = \n",
    "\\left[\\begin{array}{rr}\n",
    "8 & 4 \\\\ \n",
    "4 & 2 \n",
    "\\end{array}\\right]$\n",
    "\n",
    "which is\n",
    "\n",
    "$det(A) = ad - bc$\n",
    "\n",
    "which is \n",
    "\n",
    "$det(A) = 8*2 - 4*4 = 0$"
   ]
  },
  {
   "cell_type": "markdown",
   "metadata": {},
   "source": [
    "## Nonhomogenous Systems"
   ]
  },
  {
   "cell_type": "markdown",
   "metadata": {},
   "source": [
    "So far, we've only looked at linear systems where the constants vector ($\\vec{b}$) doesn't contain all zeroes. These linear systems are known as nonhomogenous systems. Here's the nonhomogenous system from earlier:\n",
    "\n",
    "$\\left[\\begin{array}{rr|r}\n",
    "8 & 4 & 5 \\\\ \n",
    "4 & 2 & 5\n",
    "\\end{array}\\right]$\n",
    "\n",
    "On the other hand, when the constant vector is equal to the zero vector, that system is known as a homogenous system. Here's an example:\n",
    "\n",
    "$\\left[\\begin{array}{rr|r}\n",
    "8 & 4 & 0 \\\\ \n",
    "4 & 2 & 0\n",
    "\\end{array}\\right]$\n",
    "\n",
    "The distinction exists because homogenous systems always have a solution, the zero vector. We'll explore the homogenous system more in the next few steps. For now, let's explore __`nonhomogenous`__ systems further.\n",
    "\n",
    "__Square, Nonhomogenous System__\n",
    "\n",
    "For square, nonhomogenous systems, there are 3 possible solutions:\n",
    "\n",
    "- no solution\n",
    "- a single solution\n",
    "- infinitely many solutions"
   ]
  },
  {
   "attachments": {},
   "cell_type": "markdown",
   "metadata": {},
   "source": [
    "Here's a diagram that compares the 3 different possible solutions in a simple, 2D nonhomogenous linear system. These ideas extend past 2 dimensions, but it's easier to build intuition in 2 dimensions.\n",
    "\n",
    "![](la_img5.svg)"
   ]
  },
  {
   "cell_type": "markdown",
   "metadata": {},
   "source": [
    "__Rectangular, Nonhomogenous System__\n",
    "\n",
    "For a rectangular (nonsquare), nonhomogenous systems, there are 2 possible solutions:\n",
    "\n",
    "- no solution\n",
    "- infinitely many solutions\n",
    "\n",
    "Let's look at a higher dimensional example:\n",
    "\n",
    "$\\left[\\begin{array}{rrr|r}\n",
    "1 & 0 & 3 & 1\\\\ \n",
    "1 & 2 & 1 & 2\n",
    "\\end{array}\\right]$\n",
    "\n",
    "The first step to transform this matrix into echelon form is to subtract row 1 from row 2 (R2 - R1):\n",
    "\n",
    "$\\left[\\begin{array}{rrr|r}\n",
    "1 & 0 & 3 & 1\\\\ \n",
    "0 & 2 & -2 & 1\n",
    "\\end{array}\\right]$\n",
    "\n",
    "The second step is to divide row 2 by 2 (R2/2):\n",
    "\n",
    "$\\left[\\begin{array}{rrr|r}\n",
    "1 & 0 & 3 & 1\\\\ \n",
    "0 & 1 & -1 & 1/2\n",
    "\\end{array}\\right]$\n",
    "\n",
    "If we convert this system back to equation form, we get the following system:\n",
    "\n",
    "$x_1 + 3x_3 = 1 \\\\ \n",
    "x_2 - x_3 = 1/2$\n",
    "\n",
    "If we solve for each variable, we get the following solution:\n",
    "\n",
    "$x_1 = 1 - 3x_3 \\\\ \n",
    "x_2 = 1/2 + x_3$\n",
    "\n",
    "$x_3$ is known as a `free variable`, because it's allowed to vary freely. You'll notice that both $x_1$ and $x_2$ are expressed in terms of $x_3$. `This system has infinitely many solutions`, because for any real number we plug in for $x_3$, we'll get different values for $x_1$ and $x_2$.\n",
    "\n",
    "Said another way, there are infinite solutions to this system because there's an infinite number of values that  could be that make this system true. This set of infinite solutions is known as a `solution space`. Let's test this using some random examples."
   ]
  },
  {
   "cell_type": "markdown",
   "metadata": {},
   "source": [
    "## Homogenous Systems"
   ]
  },
  {
   "cell_type": "markdown",
   "metadata": {},
   "source": [
    "We can solve any homogenous system, $A\\vec{x} = 0$, by setting  to the zero vector . This is known as the trivial solution, since it isn't a particularly useful solution for us. For homogenous systems, we're interested in determining if infinitely many solutions exist or not. Let's look at a concrete example:\n",
    "\n",
    "$\\left[\\begin{array}{rrr|r}\n",
    "6 & 10 & -8 & 0\\\\ \n",
    "-6 & -4 & 8 & 0 \\\\\n",
    "3 & 1/2 & -4 & 0\n",
    "\\end{array}\\right]$\n",
    "\n",
    "After standard row reduction to echelon form, here's what the matrix looks like:\n",
    "\n",
    "$\\left[\\begin{array}{rrr|r}\n",
    "3 & 5 & -4 & 0\\\\ \n",
    "0 & 3 & 0 & 0 \\\\\n",
    "0 & 0 & 0 & 0\n",
    "\\end{array}\\right]$\n",
    "\n",
    "Interestingly, the last row is the equation $0 = 0$. If the last row contained an untrue equation like $0 = 3$, then the system has no solution. For this system, however, we can continue reducing to find the solution space. We eventually get to the following matrix:\n",
    "\n",
    "$\\left[\\begin{array}{rrr|r}\n",
    "1 & 0 & -4/3 & 0\\\\ \n",
    "0 & 1 & 0 & 0 \\\\\n",
    "0 & 0 & 0 & 0\n",
    "\\end{array}\\right]$\n",
    "\n",
    "If we convert this to equation form, we get:\n",
    "\n",
    "$x_1 - \\frac{4}{3} x_3 = 0 \\\\\n",
    "x_2 = 0$\n",
    "\n",
    "In this system, $x_3$ is a free variable, $x_1 = \\frac{4}{3}x_3$ and $x_2 = 0$. Changing $x_3$ leads to a different, valid solution. Because $x_3$ can be any real number (of which there are an infinite amount), we can find an infinite number of solutions to the system.\n",
    "\n",
    "When the solution is a solution space (and not just a unique set of values), it's common to rewrite it into `parametric vector form`. Here's what that looks like:\n",
    "\n",
    "$\\vec{x} = x_3* \\begin{bmatrix}\n",
    "4/3\\\\\n",
    "0 \\\\\n",
    "1\n",
    "\\end{bmatrix}$\n",
    "\n",
    "The parametric vector form of the solution space hopefully makes the infinite nature of the solution space more apparent."
   ]
  },
  {
   "cell_type": "markdown",
   "metadata": {},
   "source": [
    "### Exercise 8"
   ]
  },
  {
   "cell_type": "markdown",
   "metadata": {},
   "source": [
    "- Create a function named test_homog() that accepts a single parameter: x3.\n",
    "    - This function should first use the parameter value to calculate x1 and x2. Use the solution functions we just calculated and assign to x1 and x2.\n",
    "    - Then, this function should plug in x1, x2, and x3 into the original linear system (feel free to use the echelon form instead for compactness) and return True if both equations are true and False otherwise. You'll need to convert the initial, augmented matrix representation of the system to standard form by hand first.\n",
    "- Use the test_homog() function to see if setting x3 to 1 returns True. Assign the result of the function to b_one.\n",
    "- Use the test_homog() function to see if setting x3 to -10 returns True. Assign the result of the function to b_two."
   ]
  },
  {
   "cell_type": "code",
   "execution_count": 127,
   "metadata": {},
   "outputs": [],
   "source": [
    "def test_homog(x3):\n",
    "    x1 = float(4/3*x3)\n",
    "    x2 = 0\n",
    "    return((3*x1 + 5*x2 - 4*x3 == 0) and (x2 == 0))\n",
    "\n",
    "b_one = test_homog(1)\n",
    "b_two = test_homog(-10)"
   ]
  },
  {
   "cell_type": "code",
   "execution_count": 128,
   "metadata": {},
   "outputs": [
    {
     "name": "stdout",
     "output_type": "stream",
     "text": [
      "True\n"
     ]
    }
   ],
   "source": [
    "print(b_one)"
   ]
  },
  {
   "cell_type": "code",
   "execution_count": 129,
   "metadata": {},
   "outputs": [
    {
     "name": "stdout",
     "output_type": "stream",
     "text": [
      "True\n"
     ]
    }
   ],
   "source": [
    "print(b_two)"
   ]
  },
  {
   "cell_type": "markdown",
   "metadata": {},
   "source": [
    "In this course, we've explored a few different ways to classify linear systems.\n",
    "\n",
    "__Square vs. Rectangular__\n",
    "\n",
    "When $A$ is a square matrix, we can compute the determinant to determine if there's a solution and the matrix inverse if the determinant isn't equal to $0$. Unfortunately, computing the determinant and matrix inverse are very computationally intensive and should only be used for low dimensional matrices. These techniques are incredibly useful when working with small linear systems by hand, however.\n",
    "\n",
    "When $A$ is a rectangular matrix, we're looking to determine if the system has no solutions or infinitely many solutions using Gaussian elimination. If the latter, it's common to express the solution space in parametric vector form.\n",
    "\n",
    "__Nonhomogenous vs. Homogenous__\n",
    "\n",
    "When $A$ is nonhomogenous, the linear system can contain zero, one, or infinitely many solutions. However, if $A$ is rectangular and nonhomogenous, it can't contain just a unique solution (there will always be a free variable).\n",
    "\n",
    "When $A$ is homogenous, the linear system always contains the trivial solution (the zero vector). To determine if there's a solution space, we need to use Gaussian elimination to see if there are any inconsistent equations. If not, we can express the solution space in parametric form using the free variable."
   ]
  },
  {
   "cell_type": "code",
   "execution_count": null,
   "metadata": {},
   "outputs": [],
   "source": []
  }
 ],
 "metadata": {
  "kernelspec": {
   "display_name": "Python 3",
   "language": "python",
   "name": "python3"
  },
  "language_info": {
   "codemirror_mode": {
    "name": "ipython",
    "version": 3
   },
   "file_extension": ".py",
   "mimetype": "text/x-python",
   "name": "python",
   "nbconvert_exporter": "python",
   "pygments_lexer": "ipython3",
   "version": "3.7.1"
  }
 },
 "nbformat": 4,
 "nbformat_minor": 2
}
